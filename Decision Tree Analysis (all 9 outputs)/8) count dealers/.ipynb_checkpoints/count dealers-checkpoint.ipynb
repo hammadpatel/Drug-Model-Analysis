{
 "cells": [
  {
   "cell_type": "code",
   "execution_count": 49,
   "metadata": {
    "collapsed": true
   },
   "outputs": [],
   "source": [
    "import pandas as pd\n",
    "import numpy as np\n",
    "import matplotlib.pyplot as plt\n",
    "import seaborn as sns\n",
    "%matplotlib inline"
   ]
  },
  {
   "cell_type": "markdown",
   "metadata": {},
   "source": [
    "# Data load and cleaning"
   ]
  },
  {
   "cell_type": "code",
   "execution_count": 50,
   "metadata": {
    "collapsed": false
   },
   "outputs": [],
   "source": [
    "df = pd.read_csv('drug.csv', skiprows= 6)\n",
    "df.drop(\"[run number]\", axis = 1, inplace = True)\n",
    "df.drop(\"[step]\", axis = 1, inplace = True)\n",
    "df.drop(\"surplus\", axis = 1, inplace = True)\n",
    "X = df.loc[:,['tolerance_limit', 'no_of_dealers', 'no_of_consumers', 'consumer_network', 'franchise_limit', 'leave_consumer',\n",
    "              'suspicion', 'allow_direct_connection', 'new_consumer']]\n",
    "y = df.loc[:,['count dealers']]"
   ]
  },
  {
   "cell_type": "markdown",
   "metadata": {},
   "source": [
    "# Split into training and test tests"
   ]
  },
  {
   "cell_type": "code",
   "execution_count": 51,
   "metadata": {
    "collapsed": false
   },
   "outputs": [],
   "source": [
    "from sklearn.model_selection import train_test_split\n",
    "X_train, X_test, y_train, y_test = train_test_split(X, y, test_size=0.2, random_state = 42)"
   ]
  },
  {
   "cell_type": "markdown",
   "metadata": {},
   "source": [
    "# Initial Model Exploration "
   ]
  },
  {
   "cell_type": "code",
   "execution_count": 52,
   "metadata": {
    "collapsed": false
   },
   "outputs": [
    {
     "data": {
      "text/plain": [
       "4.3976799951756105"
      ]
     },
     "execution_count": 52,
     "metadata": {},
     "output_type": "execute_result"
    }
   ],
   "source": [
    "from sklearn import tree\n",
    "from sklearn.metrics import mean_squared_error\n",
    "\n",
    "reg_treeTune = tree.DecisionTreeRegressor(random_state=42)\n",
    "reg_treeTune.fit(X_train, y_train)\n",
    "predictions = reg_treeTune.predict(X_train)\n",
    "tree_mse = mean_squared_error(y_train, predictions)\n",
    "tree_rmse = np.sqrt(tree_mse)\n",
    "tree_rmse"
   ]
  },
  {
   "cell_type": "code",
   "execution_count": 53,
   "metadata": {
    "collapsed": false
   },
   "outputs": [
    {
     "name": "stdout",
     "output_type": "stream",
     "text": [
      "Scores: [ 4.9805241   4.66801934  5.11217901  5.00878228  5.04245681  5.11955083\n",
      "  5.00360343  4.95058043  5.07297524  5.39545651]\n",
      "Mean: 5.03541279797\n",
      "Standard deviation: 0.170579180335\n"
     ]
    }
   ],
   "source": [
    "from sklearn.model_selection import cross_val_score\n",
    "\n",
    "tree_scores = cross_val_score(reg_treeTune, X_train, y_train,\n",
    "                              scoring=\"neg_mean_squared_error\", cv=10)\n",
    "tree_rmse_scores = np.sqrt(-tree_scores)\n",
    "\n",
    "def display_scores(scores):\n",
    "    print(\"Scores:\", scores)\n",
    "    print(\"Mean:\", scores.mean())\n",
    "    print(\"Standard deviation:\", scores.std())\n",
    "\n",
    "display_scores(tree_rmse_scores)\n"
   ]
  },
  {
   "cell_type": "markdown",
   "metadata": {},
   "source": [
    "# Plot validation curves to find optimal parameters to avoid overfitting"
   ]
  },
  {
   "cell_type": "code",
   "execution_count": 54,
   "metadata": {
    "collapsed": false
   },
   "outputs": [
    {
     "data": {
      "image/png": "[encoded data removed]",
      "text/plain": [
       "<matplotlib.figure.Figure at 0x11fa2dcc0>"
      ]
     },
     "metadata": {},
     "output_type": "display_data"
    }
   ],
   "source": [
    "from sklearn.learning_curve import validation_curve\n",
    "param_range = [10, 20, 50, 70, 90, 100]\n",
    "train_scores, test_scores = validation_curve(\n",
    "                reg_treeTune, \n",
    "                X=X_train, \n",
    "                y=y_train, \n",
    "                param_name='min_samples_leaf', \n",
    "                param_range=param_range,\n",
    "                cv=10)\n",
    "\n",
    "train_mean = np.mean(train_scores, axis=1)\n",
    "train_std = np.std(train_scores, axis=1)\n",
    "test_mean = np.mean(test_scores, axis=1)\n",
    "test_std = np.std(test_scores, axis=1)\n",
    "\n",
    "plt.plot(param_range, train_mean, \n",
    "         color='blue', marker='o', \n",
    "         markersize=5, label='training accuracy')\n",
    "\n",
    "plt.fill_between(param_range, train_mean + train_std,\n",
    "                 train_mean - train_std, alpha=0.15,\n",
    "                 color='blue')\n",
    "\n",
    "plt.plot(param_range, test_mean, \n",
    "         color='green', linestyle='--', \n",
    "         marker='s', markersize=5, \n",
    "         label='validation accuracy')\n",
    "\n",
    "plt.fill_between(param_range, \n",
    "                 test_mean + test_std,\n",
    "                 test_mean - test_std, \n",
    "                 alpha=0.15, color='green')\n",
    "\n",
    "plt.grid()\n",
    "#plt.xscale('log')\n",
    "plt.legend(loc='upper left')\n",
    "plt.xlabel('min_samples_leaf')\n",
    "plt.ylabel('Accuracy')\n",
    "plt.ylim([0, 1.0])\n",
    "plt.tight_layout()\n",
    "plt.show()"
   ]
  },
  {
   "cell_type": "markdown",
   "metadata": {},
   "source": [
    "# Create new model with the optimal parameters"
   ]
  },
  {
   "cell_type": "code",
   "execution_count": 55,
   "metadata": {
    "collapsed": false
   },
   "outputs": [
    {
     "data": {
      "text/plain": [
       "4.5898181804800231"
      ]
     },
     "execution_count": 55,
     "metadata": {},
     "output_type": "execute_result"
    }
   ],
   "source": [
    "reg_tree = tree.DecisionTreeRegressor(random_state=42, min_samples_leaf = 70, max_depth = 4)\n",
    "reg_tree = reg_tree.fit(X_train, y_train)\n",
    "predictions = reg_tree.predict(X_train)\n",
    "tree_mse = mean_squared_error(y_train, predictions)\n",
    "tree_rmse = np.sqrt(tree_mse)\n",
    "tree_rmse"
   ]
  },
  {
   "cell_type": "code",
   "execution_count": 56,
   "metadata": {
    "collapsed": false
   },
   "outputs": [
    {
     "name": "stdout",
     "output_type": "stream",
     "text": [
      "Scores: [ 4.54024636  4.27330141  4.73240571  4.51902704  4.7197456   4.76072523\n",
      "  4.52579629  4.56851161  4.63467586  4.87282589]\n",
      "Mean: 4.61472610196\n",
      "Standard deviation: 0.159539172214\n"
     ]
    },
    {
     "data": {
      "text/plain": [
       "Index(['tolerance_limit', 'no_of_dealers', 'no_of_consumers',\n",
       "       'consumer_network', 'franchise_limit', 'leave_consumer', 'suspicion',\n",
       "       'allow_direct_connection', 'new_consumer'],\n",
       "      dtype='object')"
      ]
     },
     "execution_count": 56,
     "metadata": {},
     "output_type": "execute_result"
    }
   ],
   "source": [
    "from sklearn.model_selection import cross_val_score\n",
    "\n",
    "tree_scores = cross_val_score(reg_tree, X_train, y_train,\n",
    "                              scoring=\"neg_mean_squared_error\", cv=10)\n",
    "tree_rmse_scores = np.sqrt(-tree_scores)\n",
    "\n",
    "def display_scores(scores):\n",
    "    print(\"Scores:\", scores)\n",
    "    print(\"Mean:\", scores.mean())\n",
    "    print(\"Standard deviation:\", scores.std())\n",
    "\n",
    "display_scores(tree_rmse_scores)\n",
    "feature_names=X_train.columns\n",
    "feature_names"
   ]
  },
  {
   "cell_type": "markdown",
   "metadata": {},
   "source": [
    "# Important attributes in the model."
   ]
  },
  {
   "cell_type": "code",
   "execution_count": 57,
   "metadata": {
    "collapsed": false
   },
   "outputs": [
    {
     "data": {
      "text/plain": [
       "[(0.34231743475853177, 'no_of_dealers'),\n",
       " (0.29845189089782692, 'franchise_limit'),\n",
       " (0.18765087958413462, 'no_of_consumers'),\n",
       " (0.16153389873554871, 'suspicion'),\n",
       " (0.010045896023958103, 'consumer_network'),\n",
       " (0.0, 'tolerance_limit'),\n",
       " (0.0, 'new_consumer'),\n",
       " (0.0, 'leave_consumer'),\n",
       " (0.0, 'allow_direct_connection')]"
      ]
     },
     "execution_count": 57,
     "metadata": {},
     "output_type": "execute_result"
    }
   ],
   "source": [
    "feature_importances = reg_tree.feature_importances_\n",
    "attributes = list(X_train)\n",
    "sorted(zip(feature_importances, attributes), reverse=True)"
   ]
  },
  {
   "cell_type": "markdown",
   "metadata": {},
   "source": [
    "# Test accuracy"
   ]
  },
  {
   "cell_type": "code",
   "execution_count": 58,
   "metadata": {
    "collapsed": false
   },
   "outputs": [
    {
     "data": {
      "text/plain": [
       "4.6529981188594096"
      ]
     },
     "execution_count": 58,
     "metadata": {},
     "output_type": "execute_result"
    }
   ],
   "source": [
    "final_predictions = reg_tree.predict(X_test)\n",
    "final_mse = mean_squared_error(y_test, final_predictions)\n",
    "final_rmse = np.sqrt(final_mse)\n",
    "final_rmse"
   ]
  },
  {
   "cell_type": "code",
   "execution_count": 59,
   "metadata": {
    "collapsed": false
   },
   "outputs": [
    {
     "data": {
      "text/plain": [
       "0.60526225130875644"
      ]
     },
     "execution_count": 59,
     "metadata": {},
     "output_type": "execute_result"
    }
   ],
   "source": [
    "reg_tree.score(X_test, y_test)"
   ]
  },
  {
   "cell_type": "markdown",
   "metadata": {},
   "source": [
    "# Export Tree"
   ]
  },
  {
   "cell_type": "code",
   "execution_count": 60,
   "metadata": {
    "collapsed": false
   },
   "outputs": [],
   "source": [
    "dotfile = open(\"/Users/Hammad/Desktop/tree.dot\", 'w')\n",
    "tree.export_graphviz(reg_tree, out_file = dotfile, rounded=True, filled=True, feature_names=list(X_train))\n",
    "dotfile.close()"
   ]
  }
 ],
 "metadata": {
  "kernelspec": {
   "display_name": "Python 3",
   "language": "python",
   "name": "python3"
  },
  "language_info": {
   "codemirror_mode": {
    "name": "ipython",
    "version": 3
   },
   "file_extension": ".py",
   "mimetype": "text/x-python",
   "name": "python",
   "nbconvert_exporter": "python",
   "pygments_lexer": "ipython3",
   "version": "3.6.0"
  }
 },
 "nbformat": 4,
 "nbformat_minor": 2
}
